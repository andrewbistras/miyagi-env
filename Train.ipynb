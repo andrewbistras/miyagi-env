{
 "cells": [
  {
   "cell_type": "markdown",
   "id": "f8f8d60e",
   "metadata": {},
   "source": [
    "# my_ai_detector – Colab quick-start\n",
    "Runs training with the yaml profile **config/train/colab_a100.yaml**\n",
    "\n",
    "If this is your *first* session, cell ① clones the repo into Drive; on later\n",
    "sessions it’s skipped automatically."
   ]
  },
  {
   "cell_type": "code",
   "execution_count": null,
   "id": "d9bcb235",
   "metadata": {
    "id": "drive-mount"
   },
   "outputs": [],
   "source": [
    "from google.colab import drive, runtime, output\n",
    "import pathlib, subprocess, os\n",
    "\n",
    "drive.mount('/content/drive')\n",
    "\n",
    "REPO_DIR = pathlib.Path('/content/drive/MyDrive/code/my_project')\n",
    "if not REPO_DIR.exists():\n",
    "    REPO_DIR.parent.mkdir(parents=True, exist_ok=True)\n",
    "    !git clone https://github.com/<YOUR-USER>/my_project.git $REPO_DIR\n",
    "else:\n",
    "    %cd $REPO_DIR\n",
    "    !git pull\n"
   ]
  },
  {
   "cell_type": "code",
   "execution_count": null,
   "id": "1b13d5cb",
   "metadata": {
    "id": "install-editable"
   },
   "outputs": [],
   "source": [
    "%cd /content/drive/MyDrive/code/my_project\n",
    "\n",
    "# Install third-party deps then the package itself in editable mode\n",
    "%pip install -q -r requirements.txt\n",
    "%pip install -q -e .\n",
    "\n",
    "# Pin HuggingFace cache to Drive so weights persist\n",
    "import os, pathlib, yaml\n",
    "HF_CACHE = '/content/drive/MyDrive/hf_cache'\n",
    "pathlib.Path(HF_CACHE).mkdir(exist_ok=True)\n",
    "os.environ['HF_HOME'] = HF_CACHE\n"
   ]
  },
  {
   "cell_type": "code",
   "execution_count": null,
   "id": "e517f26e",
   "metadata": {
    "id": "launch-training"
   },
   "outputs": [],
   "source": [
    "TRAIN_CFG = 'config/train/colab_a100.yaml'\n",
    "ENV_CFG   = 'config/env/colab.yaml'\n",
    "\n",
    "command = (\n",
    "    f\"python train.py --config {TRAIN_CFG} --config {ENV_CFG}\"\n",
    ")\n",
    "print('Running:', command)\n",
    "!$command\n"
   ]
  }
 ],
 "metadata": {
  "colab": {
   "name": "Train.ipynb",
   "provenance": []
  },
  "kernelspec": {
   "display_name": "Python 3 (ipykernel)",
   "language": "python",
   "name": "python3"
  },
  "language_info": {
   "name": "python"
  }
 },
 "nbformat": 4,
 "nbformat_minor": 5
}
